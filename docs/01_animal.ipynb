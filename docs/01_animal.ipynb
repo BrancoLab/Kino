{
 "nbformat": 4,
 "nbformat_minor": 2,
 "metadata": {
  "language_info": {
   "name": "python",
   "codemirror_mode": {
    "name": "ipython",
    "version": 3
   },
   "version": "3.8.0-final"
  },
  "orig_nbformat": 2,
  "file_extension": ".py",
  "mimetype": "text/x-python",
  "name": "python",
  "npconvert_exporter": "python",
  "pygments_lexer": "ipython3",
  "version": 3,
  "kernelspec": {
   "name": "python37064bitdevconda112fd021ba3e412cb7ad87c8512649fa",
   "display_name": "Python 3.7.0 64-bit ('dev': conda)"
  }
 },
 "cells": [
  {
   "cell_type": "markdown",
   "metadata": {},
   "source": [
    "# Animal\n",
    "\n",
    "`Kino` is a package for the study of the kinematics of animal locomotion. It tries to be agnostic to the type of aimals and which bodyparts where tracked (even though it was developed/tested only for mice). For this reason, it offers a general `Animal` object to define which body parts an animal has and how they are connected."
   ]
  },
  {
   "cell_type": "code",
   "execution_count": 3,
   "metadata": {},
   "outputs": [
    {
     "name": "stdout",
     "output_type": "stream",
     "text": "\nMouse\nbody parts (8) = [Body part: \"left_fl\", Body part: \"right_fl\", Body part: \"body\", Body part: \"right_hl\", Body part: \"left_hl\", Body part: \"snout\", Body part: \"neck\", Body part: \"tail_base\"]\nbones (7) = [Bone: 'body -> left_fl'', Bone: 'body -> right_fl'', Bone: 'body -> right_hl'', Bone: 'body -> left_hl'', Bone: 'snout -> neck'', Bone: 'neck -> body'', Bone: 'body -> tail_base'']\n            \n"
    }
   ],
   "source": [
    "from kino.animal import Animal\n",
    "\n",
    "\n",
    "'''\n",
    "     Defining an animat requires specifying a few metadata through a dictionary object.\n",
    "     The metadata should include:\n",
    "        - animal name\n",
    "        - names of the bodyparts that are 'paws' (if any)\n",
    "        - names of the TWO bodyparts that define the body axis\n",
    "        - names of the TWO bodyparts that define the hadd axis\n",
    "        - a list of ames of all bodyparts\n",
    "        - a list of colors for each bodyparts\n",
    "        - skeleton information, list of bones or connection between two bodyparts (specified by                 the names of the two body parts and a color to be used for visualizations)\n",
    "\n",
    "\n",
    "    The following is an example of a 'mouse' aimal object\n",
    "\n",
    "'''\n",
    "\n",
    "from myterial import (\n",
    "    pink,\n",
    "    pink_darker,\n",
    "    blue,\n",
    "    blue_darker,\n",
    "    blue_grey_light,\n",
    "    blue_grey_dark,\n",
    "    blue_grey_darker,\n",
    "    salmon,\n",
    ")\n",
    "\n",
    "metadata = dict(\n",
    "    name=\"Mouse\",\n",
    "    paws=(\"left_fl\", \"right_fl\", \"right_hl\", \"left_hl\"),\n",
    "    body_axis=(\"tail_base\", \"neck\"),\n",
    "    head=(\"neck\", \"snout\"),\n",
    "    bodyparts=(\n",
    "        \"left_fl\",\n",
    "        \"right_fl\",\n",
    "        \"body\",\n",
    "        \"right_hl\",\n",
    "        \"left_hl\",\n",
    "        \"snout\",\n",
    "        \"neck\",\n",
    "        \"tail_base\",\n",
    "    ),\n",
    "    colors=dict(\n",
    "        left_fl=pink,\n",
    "        right_fl=blue,\n",
    "        right_hl=blue_darker,\n",
    "        left_hl=pink_darker,\n",
    "        snout=blue_grey_light,\n",
    "        neck=blue_grey_light,\n",
    "        body=blue_grey_dark,\n",
    "        tail_base=blue_grey_darker,\n",
    "    ),\n",
    "    skeleton=(\n",
    "        (\"body\", \"left_fl\", blue_darker),\n",
    "        (\"body\", \"right_fl\", blue_darker),\n",
    "        (\"body\", \"right_hl\", blue_darker),\n",
    "        (\"body\", \"left_hl\", blue_darker),\n",
    "        (\"snout\", \"neck\", \"k\"),\n",
    "        (\"neck\", \"body\", \"k\"),\n",
    "        (\"body\", \"tail_base\", \"k\"),\n",
    "    ),\n",
    ")\n",
    "\n",
    "mouse = Animal(metadata)\n",
    "print(mouse)"
   ]
  },
  {
   "cell_type": "code",
   "execution_count": 11,
   "metadata": {},
   "outputs": [
    {
     "name": "stdout",
     "output_type": "stream",
     "text": "Body part: \"snout\"\nPaws:  ('left_fl', 'right_fl', 'right_hl', 'left_hl')\nBone: 'body -> left_fl''\n"
    }
   ],
   "source": [
    "# You can access elements of your animal\n",
    "print(mouse.snout)\n",
    "print('Paws: ', mouse.paws)\n",
    "print(mouse.bones[0])"
   ]
  },
  {
   "cell_type": "markdown",
   "metadata": {},
   "source": [
    "The `Animal` class doesn't store any tracking data, it is used solely to define the animal's body parts and their connections. All tracking data is stored as a geometric object (e.g. a 2D trajectory). Geometry objects in `kino` are discussed next."
   ]
  },
  {
   "cell_type": "code",
   "execution_count": null,
   "metadata": {},
   "outputs": [],
   "source": []
  }
 ]
}